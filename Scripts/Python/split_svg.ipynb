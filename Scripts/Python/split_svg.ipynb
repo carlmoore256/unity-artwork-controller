{
 "cells": [
  {
   "cell_type": "code",
   "execution_count": 1,
   "metadata": {},
   "outputs": [],
   "source": [
    "import svgpathtools as svg\n",
    "import xml.etree.ElementTree as ET\n",
    "from bs4 import BeautifulSoup\n",
    "import os\n",
    "import json\n",
    "from svgpathtools.parser import parse_path\n",
    "import shutil"
   ]
  },
  {
   "cell_type": "code",
   "execution_count": 21,
   "metadata": {},
   "outputs": [],
   "source": []
  },
  {
   "cell_type": "code",
   "execution_count": 6,
   "metadata": {},
   "outputs": [
    {
     "name": "stdout",
     "output_type": "stream",
     "text": [
      "Finished splitting E:/UnityProjects/MarioProject\\Assets/SVG\\MagiciansVision\\Original\\original.svg into layers | Output: E:/UnityProjects/MarioProject\\Assets/SVG\\MagiciansVision\\Layers\n"
     ]
    }
   ],
   "source": [
    "UNITY_PROJECT_PATH = \"E:/UnityProjects/MarioProject\"\n",
    "UNITY_SVG_PATH = os.path.join(UNITY_PROJECT_PATH, \"Assets/SVG\")\n",
    "\n",
    "def calculate_offset(path_element, height, width):\n",
    "    d = path_element['d']\n",
    "    path = parse_path(d)\n",
    "    bbox = path.bbox()\n",
    "    # bbox is: xmin, xmax, ymin, ymax\n",
    "    center = (bbox[0] + bbox[1]) / 2, (bbox[2] + bbox[3]) / 2\n",
    "    viewbox_center = width / 2, height / 2\n",
    "    offset = (viewbox_center[0] - center[0]) * -1, viewbox_center[1] - center[1]\n",
    "    return offset\n",
    "\n",
    "# creates an svg package that can be opened by Unity\n",
    "def create_layered_svg_package(svg_path, artwork_name):\n",
    "    # create the necessary directories\n",
    "    if (os.path.exists(UNITY_SVG_PATH) == False):\n",
    "        os.mkdir(UNITY_SVG_PATH)\n",
    "    artwork_path = os.path.join(UNITY_SVG_PATH, artwork_name)\n",
    "    if (os.path.exists(artwork_path) == False):\n",
    "        os.mkdir(artwork_path)\n",
    "    original_path = os.path.join(artwork_path, \"Original\")\n",
    "    if (os.path.exists(original_path) == False):\n",
    "        os.mkdir(original_path)\n",
    "    layers_path = os.path.join(artwork_path, \"Layers\")\n",
    "    if (os.path.exists(layers_path) == False):\n",
    "        os.mkdir(layers_path)\n",
    "    \n",
    "    svg_original_path = os.path.join(original_path, \"original.svg\")\n",
    "    # copy the original svg to the original folder\n",
    "    shutil.copy(svg_path, svg_original_path)\n",
    "\n",
    "    split_into_layers(svg_original_path, layers_path)\n",
    "\n",
    "def split_into_layers(input_svg_path, output_root):\n",
    "    with open(input_svg_path, \"r\") as f:\n",
    "        svg_str = f.read()\n",
    "    soup = BeautifulSoup(svg_str, \"lxml\")\n",
    "    original_svg = soup.svg\n",
    "    template_svg = soup.new_tag(\"svg\")\n",
    "    # Copy attributes from the original SVG tag to the new SVG tag\n",
    "    for attr in original_svg.attrs:\n",
    "        template_svg.attrs[attr] = original_svg.attrs[attr]\n",
    "    template_svg = str(template_svg)\n",
    "    height = int(soup.svg.attrs[\"height\"])\n",
    "    width = int(soup.svg.attrs[\"width\"])\n",
    "    offsets = []\n",
    "    no_id_count = 0\n",
    "    for i, group in enumerate(soup.find_all(\"g\")):\n",
    "        new_svg = BeautifulSoup(template_svg, \"xml\")\n",
    "        new_svg.svg.append(group)\n",
    "        id = group.attrs[\"id\"]\n",
    "        if id == \"\" or id is None:\n",
    "            filename = f\"layer-no-id-{no_id_count}.svg\"\n",
    "            no_id_count += 1\n",
    "        else:\n",
    "            filename = f\"{id}.svg\"\n",
    "        outfile = os.path.join(output_root, filename)\n",
    "        with open(outfile, \"w\") as f:\n",
    "            f.write(str(new_svg))\n",
    "        offsets.append({\"file\" : filename, \"offset\" : calculate_offset(group.find(\"path\"), height, width)})\n",
    "    with open(os.path.join(output_root, \"layers.json\"), \"w\") as f:\n",
    "        f.write(json.dumps(offsets))\n",
    "    print(f'Finished splitting {input_svg_path} into layers | Output: {output_root}')\n",
    "\n",
    "\n",
    "artwork_name = \"MagiciansVision\"\n",
    "original_path = \"D:/MarioProject/test-image-only-paths.svg\"\n",
    "create_layered_svg_package(original_path, artwork_name)\n"
   ]
  },
  {
   "cell_type": "code",
   "execution_count": null,
   "metadata": {},
   "outputs": [],
   "source": [
    "folder = \"E:/UnityProjects/MarioProject/Assets/SVG/{artwork_name}\"\n",
    "svg_path = os.path.join(folder, \"Original\", \"original.svg\")\n",
    "svg_path = \"E:/UnityProjects/MarioProject/Assets/SVG/{artwork_name}/Original/test-image-only-paths.svg\"\n",
    "outpath = \"E:/UnityProjects/MarioProject/Assets/SVG/{artwork_name}/\""
   ]
  },
  {
   "cell_type": "code",
   "execution_count": 23,
   "metadata": {},
   "outputs": [
    {
     "name": "stderr",
     "output_type": "stream",
     "text": [
      "c:\\Users\\Carl\\miniconda3\\lib\\site-packages\\bs4\\builder\\__init__.py:545: XMLParsedAsHTMLWarning: It looks like you're parsing an XML document using an HTML parser. If this really is an HTML document (maybe it's XHTML?), you can ignore or filter this warning. If it's XML, you should know that using an XML parser will be more reliable. To parse this document as XML, make sure you have the lxml package installed, and pass the keyword argument `features=\"xml\"` into the BeautifulSoup constructor.\n",
      "  warnings.warn(\n"
     ]
    }
   ],
   "source": [
    "basename = os.path.basename(svg_path)\n",
    "with open(svg_path, \"r\") as f:\n",
    "    svg_str = f.read()\n",
    "soup = BeautifulSoup(svg_str, \"lxml\")\n",
    "original_svg = soup.svg\n",
    "template_svg = soup.new_tag(\"svg\")\n",
    "\n",
    "# Copy attributes from the original SVG tag to the new SVG tag\n",
    "for attr in original_svg.attrs:\n",
    "    template_svg.attrs[attr] = original_svg.attrs[attr]\n",
    "\n",
    "template_svg = str(template_svg)\n",
    "\n",
    "height = int(soup.svg.attrs[\"height\"])\n",
    "width = int(soup.svg.attrs[\"width\"])\n",
    "\n",
    "offsets = []\n",
    "\n",
    "for i, group in enumerate(soup.find_all(\"g\")):\n",
    "    new_svg = BeautifulSoup(template_svg, \"xml\")\n",
    "    new_svg.svg.append(group)\n",
    "    id = group.attrs[\"id\"]\n",
    "    if id == \"\" or id is None:\n",
    "        filename = f\"split_{basename.replace('.svg', '')}_no_id_{i}.svg\"\n",
    "    else:\n",
    "        filename = f\"split_{basename.replace('.svg', '')}_{id}.svg\"\n",
    "    outfile = os.path.join(outpath, filename)\n",
    "    with open(outfile, \"w\") as f:\n",
    "        f.write(str(new_svg))\n",
    "\n",
    "    offsets.append({\"file\" : filename, \"offset\" : calculate_offset(group.find(\"path\"), height, width)})\n",
    "\n",
    "with open(os.path.join(outpath, \"offsets.json\"), \"w\") as f:\n",
    "    f.write(json.dumps(offsets))"
   ]
  }
 ],
 "metadata": {
  "kernelspec": {
   "display_name": "Python 3",
   "language": "python",
   "name": "python3"
  },
  "language_info": {
   "codemirror_mode": {
    "name": "ipython",
    "version": 3
   },
   "file_extension": ".py",
   "mimetype": "text/x-python",
   "name": "python",
   "nbconvert_exporter": "python",
   "pygments_lexer": "ipython3",
   "version": "3.8.16"
  },
  "orig_nbformat": 4
 },
 "nbformat": 4,
 "nbformat_minor": 2
}
