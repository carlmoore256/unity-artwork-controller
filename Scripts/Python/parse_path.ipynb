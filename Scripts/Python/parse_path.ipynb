{
 "cells": [
  {
   "cell_type": "code",
   "execution_count": 1,
   "metadata": {},
   "outputs": [],
   "source": [
    "import svgpathtools as svg\n",
    "from bs4 import BeautifulSoup\n",
    "import os"
   ]
  },
  {
   "cell_type": "code",
   "execution_count": 9,
   "metadata": {},
   "outputs": [],
   "source": [
    "from svgpathtools.parser import parse_path"
   ]
  },
  {
   "cell_type": "code",
   "execution_count": 2,
   "metadata": {},
   "outputs": [],
   "source": [
    "svg_path = \"E:/UnityProjects/MarioProject/Assets/Images/SVG/Original/test-image-only-paths.svg\"\n",
    "outpath = \"E:/UnityProjects/MarioProject/Assets/Images/SVG/Original/test-image-only-paths.svg\"\n"
   ]
  },
  {
   "cell_type": "code",
   "execution_count": 15,
   "metadata": {},
   "outputs": [
    {
     "name": "stdout",
     "output_type": "stream",
     "text": [
      "2886.0 2899.0\n",
      "center: (283.0, 1747.0)\n",
      "viewbox: (1443.0, 1449.5)\n",
      "offset: (1160.0, -297.5)\n"
     ]
    }
   ],
   "source": [
    "with open(svg_path, \"r\") as f:\n",
    "    svg_str = f.read()\n",
    "\n",
    "soup = BeautifulSoup(svg_str, 'xml')\n",
    "\n",
    "\n",
    "def calculate_offset(path_element, height, width):\n",
    "    # width = float(soup.svg['width'])\n",
    "    # height = float(soup.svg['height'])\n",
    "\n",
    "    # viewbox = [float(v) for v in soup.svg['viewBox'].split()]\n",
    "\n",
    "    print(width, height)\n",
    "\n",
    "    path_element = soup.find('path')\n",
    "    d = path_element['d']\n",
    "\n",
    "\n",
    "    path = parse_path(d)\n",
    "\n",
    "    bbox = path.bbox()\n",
    "\n",
    "    # bbox is: xmin, xmax, ymin, ymax\n",
    "    center = (bbox[0] + bbox[1]) / 2, (bbox[2] + bbox[3]) / 2\n",
    "\n",
    "    print(f'center: {center}')\n",
    "\n",
    "    viewbox_center = width / 2, height / 2\n",
    "\n",
    "    print(f'viewbox: {viewbox_center}')\n",
    "\n",
    "    offset = viewbox_center[0] - center[0], viewbox_center[1] - center[1]\n",
    "\n",
    "    print(f'offset: {offset}')\n",
    "\n"
   ]
  },
  {
   "cell_type": "code",
   "execution_count": null,
   "metadata": {},
   "outputs": [],
   "source": []
  }
 ],
 "metadata": {
  "kernelspec": {
   "display_name": "base",
   "language": "python",
   "name": "python3"
  },
  "language_info": {
   "codemirror_mode": {
    "name": "ipython",
    "version": 3
   },
   "file_extension": ".py",
   "mimetype": "text/x-python",
   "name": "python",
   "nbconvert_exporter": "python",
   "pygments_lexer": "ipython3",
   "version": "3.8.16"
  },
  "orig_nbformat": 4
 },
 "nbformat": 4,
 "nbformat_minor": 2
}
